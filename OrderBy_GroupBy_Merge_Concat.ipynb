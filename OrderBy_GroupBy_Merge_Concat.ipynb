{
 "cells": [
  {
   "cell_type": "code",
   "execution_count": 1,
   "id": "cca8d97b-d29c-4c4f-8d7e-9c1d366b90a4",
   "metadata": {},
   "outputs": [],
   "source": [
    "import pandas as pd"
   ]
  },
  {
   "cell_type": "code",
   "execution_count": 27,
   "id": "a4ee8875-bc28-4a6f-bd31-bcc78eee70ac",
   "metadata": {},
   "outputs": [],
   "source": [
    "#df = pd.read_csv(\"C:/Narasimha_2025_jun/Sep_Automation/Sep2025_autmation/Data/emp.csv\")\n",
    "df = pd.read_csv(\".../../Data/emp.csv\")"
   ]
  },
  {
   "cell_type": "code",
   "execution_count": 28,
   "id": "de18e9a3-7e07-4c46-b177-c35b85723f3d",
   "metadata": {},
   "outputs": [
    {
     "name": "stdout",
     "output_type": "stream",
     "text": [
      "    eno   ename  salary  deptno         doj\n",
      "4     5    Jade    2000      10  2021-02-10\n",
      "12   13  Simran    1500      10  2019-12-19\n",
      "15   16   Rahul    1200      10  2016-03-28\n",
      "0    10   Amber    1000      10  2018-05-14\n",
      "1     2    Amar    1000      10  2017-03-22\n",
      "3     4  Thomas    1000      10  2019-08-18\n",
      "5     6   Smith    1000      10  2016-12-01\n",
      "6     7  Robert    3000      20  2023-06-25\n",
      "11   12   Karan    2200      20  2018-06-16\n",
      "14   15    Neha    1700      20  2021-07-22\n",
      "2     8   Sagar    1000      20  2020-11-30\n",
      "10   11  Dennis   41000      30  2024-01-05\n",
      "8     9   Naman    4000      30  2020-01-20\n",
      "13   14    Amit    2000      30  2022-04-09\n",
      "7     3    Nick    1000      30  2015-09-15\n",
      "9     1   Vikas    1000      30  2017-10-03\n"
     ]
    }
   ],
   "source": [
    "df_sort=df.sort_values(by=['deptno','salary'],ascending=[True,False])\n",
    "print(df_sort)"
   ]
  },
  {
   "cell_type": "code",
   "execution_count": null,
   "id": "d57c0ecd-4ec9-4017-8cbc-7971425e8b71",
   "metadata": {},
   "outputs": [],
   "source": []
  }
 ],
 "metadata": {
  "kernelspec": {
   "display_name": "Python 3 (ipykernel)",
   "language": "python",
   "name": "python3"
  },
  "language_info": {
   "codemirror_mode": {
    "name": "ipython",
    "version": 3
   },
   "file_extension": ".py",
   "mimetype": "text/x-python",
   "name": "python",
   "nbconvert_exporter": "python",
   "pygments_lexer": "ipython3",
   "version": "3.13.5"
  }
 },
 "nbformat": 4,
 "nbformat_minor": 5
}
